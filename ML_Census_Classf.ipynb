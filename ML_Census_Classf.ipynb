{
 "cells": [
  {
   "cell_type": "markdown",
   "metadata": {},
   "source": [
    "# Census Project"
   ]
  },
  {
   "cell_type": "markdown",
   "metadata": {},
   "source": [
    "### The goal this project is to identify the patterns and customs of the people."
   ]
  },
  {
   "cell_type": "markdown",
   "metadata": {},
   "source": [
    "## 1 - Importing libs."
   ]
  },
  {
   "cell_type": "code",
   "execution_count": 1,
   "metadata": {},
   "outputs": [],
   "source": [
    "# Importing\n",
    "import pandas as pd\n",
    "import numpy as np\n",
    "import matplotlib.pyplot as plt\n",
    "import seaborn as sns\n",
    "%matplotlib inline"
   ]
  },
  {
   "cell_type": "code",
   "execution_count": 2,
   "metadata": {},
   "outputs": [],
   "source": [
    "# stats\n",
    "import warnings\n",
    "warnings.filterwarnings('ignore')\n",
    "import statsmodels.api as sm\n",
    "from statsmodels.stats.outliers_influence import variance_inflation_factor\n",
    "from scipy import stats"
   ]
  },
  {
   "cell_type": "code",
   "execution_count": 3,
   "metadata": {},
   "outputs": [],
   "source": [
    "#sklearn\n",
    "from sklearn.linear_model import LogisticRegression\n",
    "from sklearn.metrics import mean_squared_error, make_scorer\n",
    "from sklearn.preprocessing import StandardScaler\n",
    "from sklearn.model_selection import train_test_split\n",
    "from sklearn.model_selection import cross_val_score\n",
    "from sklearn.linear_model import LinearRegression\n",
    "from sklearn.metrics import accuracy_score, classification_report"
   ]
  },
  {
   "cell_type": "markdown",
   "metadata": {},
   "source": [
    "## 2 - Reading file and Exploration of Data"
   ]
  },
  {
   "cell_type": "code",
   "execution_count": 4,
   "metadata": {},
   "outputs": [],
   "source": [
    "# Reading\n",
    "df_census = pd.read_csv('/media/sf_FormacaoCientistaDeDados/Portfolio/Census/adult.csv',index_col=False)"
   ]
  },
  {
   "cell_type": "code",
   "execution_count": 5,
   "metadata": {},
   "outputs": [
    {
     "data": {
      "text/plain": [
       "(32561, 15)"
      ]
     },
     "execution_count": 5,
     "metadata": {},
     "output_type": "execute_result"
    }
   ],
   "source": [
    "# Shape\n",
    "df_census.shape"
   ]
  },
  {
   "cell_type": "code",
   "execution_count": 6,
   "metadata": {},
   "outputs": [
    {
     "name": "stdout",
     "output_type": "stream",
     "text": [
      "<class 'pandas.core.frame.DataFrame'>\n",
      "RangeIndex: 32561 entries, 0 to 32560\n",
      "Data columns (total 15 columns):\n",
      "age               32561 non-null int64\n",
      "workclass         32561 non-null object\n",
      "fnlwgt            32561 non-null int64\n",
      "education         32561 non-null object\n",
      "education-num     32561 non-null int64\n",
      "marital-status    32561 non-null object\n",
      "occupation        32561 non-null object\n",
      "relationship      32561 non-null object\n",
      "race              32561 non-null object\n",
      "sex               32561 non-null object\n",
      "capital-gain      32561 non-null int64\n",
      "capital-loss      32561 non-null int64\n",
      "hours-per-week    32561 non-null int64\n",
      "native-country    32561 non-null object\n",
      "target            32561 non-null object\n",
      "dtypes: int64(6), object(9)\n",
      "memory usage: 3.7+ MB\n"
     ]
    }
   ],
   "source": [
    "df_census.info()"
   ]
  },
  {
   "cell_type": "code",
   "execution_count": 7,
   "metadata": {},
   "outputs": [
    {
     "data": {
      "text/html": [
       "<div>\n",
       "<style>\n",
       "    .dataframe thead tr:only-child th {\n",
       "        text-align: right;\n",
       "    }\n",
       "\n",
       "    .dataframe thead th {\n",
       "        text-align: left;\n",
       "    }\n",
       "\n",
       "    .dataframe tbody tr th {\n",
       "        vertical-align: top;\n",
       "    }\n",
       "</style>\n",
       "<table border=\"1\" class=\"dataframe\">\n",
       "  <thead>\n",
       "    <tr style=\"text-align: right;\">\n",
       "      <th></th>\n",
       "      <th>age</th>\n",
       "      <th>workclass</th>\n",
       "      <th>fnlwgt</th>\n",
       "      <th>education</th>\n",
       "      <th>education-num</th>\n",
       "      <th>marital-status</th>\n",
       "      <th>occupation</th>\n",
       "      <th>relationship</th>\n",
       "      <th>race</th>\n",
       "      <th>sex</th>\n",
       "      <th>capital-gain</th>\n",
       "      <th>capital-loss</th>\n",
       "      <th>hours-per-week</th>\n",
       "      <th>native-country</th>\n",
       "      <th>target</th>\n",
       "    </tr>\n",
       "  </thead>\n",
       "  <tbody>\n",
       "    <tr>\n",
       "      <th>0</th>\n",
       "      <td>39</td>\n",
       "      <td>State-gov</td>\n",
       "      <td>77516</td>\n",
       "      <td>Bachelors</td>\n",
       "      <td>13</td>\n",
       "      <td>Never-married</td>\n",
       "      <td>Adm-clerical</td>\n",
       "      <td>Not-in-family</td>\n",
       "      <td>White</td>\n",
       "      <td>Male</td>\n",
       "      <td>2174</td>\n",
       "      <td>0</td>\n",
       "      <td>40</td>\n",
       "      <td>United-States</td>\n",
       "      <td>&lt;=50K</td>\n",
       "    </tr>\n",
       "    <tr>\n",
       "      <th>1</th>\n",
       "      <td>50</td>\n",
       "      <td>Self-emp-not-inc</td>\n",
       "      <td>83311</td>\n",
       "      <td>Bachelors</td>\n",
       "      <td>13</td>\n",
       "      <td>Married-civ-spouse</td>\n",
       "      <td>Exec-managerial</td>\n",
       "      <td>Husband</td>\n",
       "      <td>White</td>\n",
       "      <td>Male</td>\n",
       "      <td>0</td>\n",
       "      <td>0</td>\n",
       "      <td>13</td>\n",
       "      <td>United-States</td>\n",
       "      <td>&lt;=50K</td>\n",
       "    </tr>\n",
       "    <tr>\n",
       "      <th>2</th>\n",
       "      <td>38</td>\n",
       "      <td>Private</td>\n",
       "      <td>215646</td>\n",
       "      <td>HS-grad</td>\n",
       "      <td>9</td>\n",
       "      <td>Divorced</td>\n",
       "      <td>Handlers-cleaners</td>\n",
       "      <td>Not-in-family</td>\n",
       "      <td>White</td>\n",
       "      <td>Male</td>\n",
       "      <td>0</td>\n",
       "      <td>0</td>\n",
       "      <td>40</td>\n",
       "      <td>United-States</td>\n",
       "      <td>&lt;=50K</td>\n",
       "    </tr>\n",
       "    <tr>\n",
       "      <th>3</th>\n",
       "      <td>53</td>\n",
       "      <td>Private</td>\n",
       "      <td>234721</td>\n",
       "      <td>11th</td>\n",
       "      <td>7</td>\n",
       "      <td>Married-civ-spouse</td>\n",
       "      <td>Handlers-cleaners</td>\n",
       "      <td>Husband</td>\n",
       "      <td>Black</td>\n",
       "      <td>Male</td>\n",
       "      <td>0</td>\n",
       "      <td>0</td>\n",
       "      <td>40</td>\n",
       "      <td>United-States</td>\n",
       "      <td>&lt;=50K</td>\n",
       "    </tr>\n",
       "    <tr>\n",
       "      <th>4</th>\n",
       "      <td>28</td>\n",
       "      <td>Private</td>\n",
       "      <td>338409</td>\n",
       "      <td>Bachelors</td>\n",
       "      <td>13</td>\n",
       "      <td>Married-civ-spouse</td>\n",
       "      <td>Prof-specialty</td>\n",
       "      <td>Wife</td>\n",
       "      <td>Black</td>\n",
       "      <td>Female</td>\n",
       "      <td>0</td>\n",
       "      <td>0</td>\n",
       "      <td>40</td>\n",
       "      <td>Cuba</td>\n",
       "      <td>&lt;=50K</td>\n",
       "    </tr>\n",
       "  </tbody>\n",
       "</table>\n",
       "</div>"
      ],
      "text/plain": [
       "   age          workclass  fnlwgt   education  education-num  \\\n",
       "0   39          State-gov   77516   Bachelors             13   \n",
       "1   50   Self-emp-not-inc   83311   Bachelors             13   \n",
       "2   38            Private  215646     HS-grad              9   \n",
       "3   53            Private  234721        11th              7   \n",
       "4   28            Private  338409   Bachelors             13   \n",
       "\n",
       "        marital-status          occupation    relationship    race      sex  \\\n",
       "0        Never-married        Adm-clerical   Not-in-family   White     Male   \n",
       "1   Married-civ-spouse     Exec-managerial         Husband   White     Male   \n",
       "2             Divorced   Handlers-cleaners   Not-in-family   White     Male   \n",
       "3   Married-civ-spouse   Handlers-cleaners         Husband   Black     Male   \n",
       "4   Married-civ-spouse      Prof-specialty            Wife   Black   Female   \n",
       "\n",
       "   capital-gain  capital-loss  hours-per-week  native-country  target  \n",
       "0          2174             0              40   United-States   <=50K  \n",
       "1             0             0              13   United-States   <=50K  \n",
       "2             0             0              40   United-States   <=50K  \n",
       "3             0             0              40   United-States   <=50K  \n",
       "4             0             0              40            Cuba   <=50K  "
      ]
     },
     "execution_count": 7,
     "metadata": {},
     "output_type": "execute_result"
    }
   ],
   "source": [
    "# First rows\n",
    "df_census.head()"
   ]
  },
  {
   "cell_type": "markdown",
   "metadata": {},
   "source": [
    "#### As we see, the features are according to the data types.\n",
    "#### The Dataset was downloaded from https://archive.ics.uci.edu/ml/datasets/Adult.\n"
   ]
  },
  {
   "cell_type": "markdown",
   "metadata": {},
   "source": [
    "### Description of features.\n",
    "\n",
    "age: continuous. <br>\n",
    "workclass:<br>\n",
    "fnlwgt: represents final weight, which is the number of units in the target population that the responding unit represents. <br>\n",
    "education: degree of education.<br>\n",
    "education-num: represents years of study. <br>\n",
    "marital-status: <br>\n",
    "occupation: <br>\n",
    "relationship:  represents role in the family<br>\n",
    "race: <br>\n",
    "sex:  <br>\n",
    "capital-gain:  are income from investment sources other than wage.<br>\n",
    "capital-loss:  are income from investment sources other than wage.<br>\n",
    "hours-per-week: hours of work per week. <br>\n",
    "native-country: <br>\n",
    "target: the person's income makes more than 50K<br>\n",
    "\n",
    "source :https://rpubs.com/H_Zhu/235617"
   ]
  },
  {
   "cell_type": "code",
   "execution_count": 8,
   "metadata": {},
   "outputs": [
    {
     "data": {
      "text/html": [
       "<div>\n",
       "<style>\n",
       "    .dataframe thead tr:only-child th {\n",
       "        text-align: right;\n",
       "    }\n",
       "\n",
       "    .dataframe thead th {\n",
       "        text-align: left;\n",
       "    }\n",
       "\n",
       "    .dataframe tbody tr th {\n",
       "        vertical-align: top;\n",
       "    }\n",
       "</style>\n",
       "<table border=\"1\" class=\"dataframe\">\n",
       "  <thead>\n",
       "    <tr style=\"text-align: right;\">\n",
       "      <th></th>\n",
       "      <th>age</th>\n",
       "      <th>fnlwgt</th>\n",
       "      <th>education-num</th>\n",
       "      <th>capital-gain</th>\n",
       "      <th>capital-loss</th>\n",
       "      <th>hours-per-week</th>\n",
       "    </tr>\n",
       "  </thead>\n",
       "  <tbody>\n",
       "    <tr>\n",
       "      <th>count</th>\n",
       "      <td>32561.000000</td>\n",
       "      <td>3.256100e+04</td>\n",
       "      <td>32561.000000</td>\n",
       "      <td>32561.000000</td>\n",
       "      <td>32561.000000</td>\n",
       "      <td>32561.000000</td>\n",
       "    </tr>\n",
       "    <tr>\n",
       "      <th>mean</th>\n",
       "      <td>38.581647</td>\n",
       "      <td>1.897784e+05</td>\n",
       "      <td>10.080679</td>\n",
       "      <td>1077.648844</td>\n",
       "      <td>87.303830</td>\n",
       "      <td>40.437456</td>\n",
       "    </tr>\n",
       "    <tr>\n",
       "      <th>std</th>\n",
       "      <td>13.640433</td>\n",
       "      <td>1.055500e+05</td>\n",
       "      <td>2.572720</td>\n",
       "      <td>7385.292085</td>\n",
       "      <td>402.960219</td>\n",
       "      <td>12.347429</td>\n",
       "    </tr>\n",
       "    <tr>\n",
       "      <th>min</th>\n",
       "      <td>17.000000</td>\n",
       "      <td>1.228500e+04</td>\n",
       "      <td>1.000000</td>\n",
       "      <td>0.000000</td>\n",
       "      <td>0.000000</td>\n",
       "      <td>1.000000</td>\n",
       "    </tr>\n",
       "    <tr>\n",
       "      <th>25%</th>\n",
       "      <td>28.000000</td>\n",
       "      <td>1.178270e+05</td>\n",
       "      <td>9.000000</td>\n",
       "      <td>0.000000</td>\n",
       "      <td>0.000000</td>\n",
       "      <td>40.000000</td>\n",
       "    </tr>\n",
       "    <tr>\n",
       "      <th>50%</th>\n",
       "      <td>37.000000</td>\n",
       "      <td>1.783560e+05</td>\n",
       "      <td>10.000000</td>\n",
       "      <td>0.000000</td>\n",
       "      <td>0.000000</td>\n",
       "      <td>40.000000</td>\n",
       "    </tr>\n",
       "    <tr>\n",
       "      <th>75%</th>\n",
       "      <td>48.000000</td>\n",
       "      <td>2.370510e+05</td>\n",
       "      <td>12.000000</td>\n",
       "      <td>0.000000</td>\n",
       "      <td>0.000000</td>\n",
       "      <td>45.000000</td>\n",
       "    </tr>\n",
       "    <tr>\n",
       "      <th>max</th>\n",
       "      <td>90.000000</td>\n",
       "      <td>1.484705e+06</td>\n",
       "      <td>16.000000</td>\n",
       "      <td>99999.000000</td>\n",
       "      <td>4356.000000</td>\n",
       "      <td>99.000000</td>\n",
       "    </tr>\n",
       "  </tbody>\n",
       "</table>\n",
       "</div>"
      ],
      "text/plain": [
       "                age        fnlwgt  education-num  capital-gain  capital-loss  \\\n",
       "count  32561.000000  3.256100e+04   32561.000000  32561.000000  32561.000000   \n",
       "mean      38.581647  1.897784e+05      10.080679   1077.648844     87.303830   \n",
       "std       13.640433  1.055500e+05       2.572720   7385.292085    402.960219   \n",
       "min       17.000000  1.228500e+04       1.000000      0.000000      0.000000   \n",
       "25%       28.000000  1.178270e+05       9.000000      0.000000      0.000000   \n",
       "50%       37.000000  1.783560e+05      10.000000      0.000000      0.000000   \n",
       "75%       48.000000  2.370510e+05      12.000000      0.000000      0.000000   \n",
       "max       90.000000  1.484705e+06      16.000000  99999.000000   4356.000000   \n",
       "\n",
       "       hours-per-week  \n",
       "count    32561.000000  \n",
       "mean        40.437456  \n",
       "std         12.347429  \n",
       "min          1.000000  \n",
       "25%         40.000000  \n",
       "50%         40.000000  \n",
       "75%         45.000000  \n",
       "max         99.000000  "
      ]
     },
     "execution_count": 8,
     "metadata": {},
     "output_type": "execute_result"
    }
   ],
   "source": [
    "df_census.describe()"
   ]
  },
  {
   "cell_type": "markdown",
   "metadata": {},
   "source": [
    "### Creating an new column and drop the feature 'target'"
   ]
  },
  {
   "cell_type": "code",
   "execution_count": 9,
   "metadata": {},
   "outputs": [],
   "source": [
    "df_census['>50k']=np.where (df_census['target']==' >50K',1,0)\n",
    "df_census.drop('target',axis=1,inplace=True)"
   ]
  },
  {
   "cell_type": "markdown",
   "metadata": {},
   "source": [
    "### Percentage of the feature '>50k'"
   ]
  },
  {
   "cell_type": "code",
   "execution_count": 10,
   "metadata": {},
   "outputs": [
    {
     "data": {
      "text/plain": [
       "0    0.75919\n",
       "1    0.24081\n",
       "Name: >50k, dtype: float64"
      ]
     },
     "execution_count": 10,
     "metadata": {},
     "output_type": "execute_result"
    }
   ],
   "source": [
    "df_census['>50k'].value_counts(normalize=True)"
   ]
  },
  {
   "cell_type": "markdown",
   "metadata": {},
   "source": [
    "### Visualizations"
   ]
  },
  {
   "cell_type": "code",
   "execution_count": 11,
   "metadata": {},
   "outputs": [
    {
     "data": {
      "image/png": "[encoded data removed]",
      "text/plain": [
       "<matplotlib.figure.Figure at 0x7fb17af61cc0>"
      ]
     },
     "metadata": {},
     "output_type": "display_data"
    }
   ],
   "source": [
    "# >50k\n",
    "sns.set()\n",
    "sns.countplot(x='>50k',data=df_census).set_title('Target Feature');"
   ]
  },
  {
   "cell_type": "code",
   "execution_count": 12,
   "metadata": {},
   "outputs": [],
   "source": [
    "#creating normalized df from features\n",
    "education = df_census.groupby(['education'])['>50k'].value_counts(normalize=True).rename('Perc').reset_index()\n",
    "sex = df_census.groupby(['sex'])['>50k'].value_counts(normalize=True).rename('Perc').reset_index()\n"
   ]
  },
  {
   "cell_type": "code",
   "execution_count": 13,
   "metadata": {},
   "outputs": [
    {
     "data": {
      "image/png": "[encoded data removed]",
      "text/plain": [
       "<matplotlib.figure.Figure at 0x7fb17a8d7be0>"
      ]
     },
     "metadata": {},
     "output_type": "display_data"
    }
   ],
   "source": [
    "fig,axes=plt.subplots(figsize=(15,5))\n",
    "bar=sns.barplot(x='education',y='Perc',hue='>50k',data=education,axes=axes);\n",
    "bar.set_xticklabels(bar.get_xticklabels(), rotation=45);\n",
    "bar.set_title('% Percentage per Education',fontsize=20);"
   ]
  },
  {
   "cell_type": "markdown",
   "metadata": {},
   "source": [
    "### This feature may be a good predictor for classification. The graduate level shows a increase in the income.\n"
   ]
  },
  {
   "cell_type": "code",
   "execution_count": 14,
   "metadata": {},
   "outputs": [
    {
     "data": {
      "image/png": "[encoded data removed]",
      "text/plain": [
       "<matplotlib.figure.Figure at 0x7fb1733e5278>"
      ]
     },
     "metadata": {},
     "output_type": "display_data"
    }
   ],
   "source": [
    "fig,axes=plt.subplots(figsize=(10,5))\n",
    "bar=sns.barplot(x='sex',y='Perc',hue='>50k',data=sex,axes=axes);\n",
    "bar.set_xticklabels(bar.get_xticklabels(), rotation=45);\n",
    "bar.set_title('% Percentage per Sex',fontsize=20);"
   ]
  },
  {
   "cell_type": "code",
   "execution_count": 15,
   "metadata": {},
   "outputs": [
    {
     "data": {
      "image/png": "[encoded data removed]",
      "text/plain": [
       "<matplotlib.figure.Figure at 0x7fb17a907898>"
      ]
     },
     "metadata": {},
     "output_type": "display_data"
    }
   ],
   "source": [
    "fig,axes=plt.subplots(1,3,figsize=(18,7))\n",
    "pd.crosstab(df_census['education'],df_census['>50k']).plot(kind='bar',ax=axes[0]);\n"
   ]
  },
  {
   "cell_type": "code",
   "execution_count": 16,
   "metadata": {},
   "outputs": [
    {
     "data": {
      "image/png": "[encoded data removed]",
      "text/plain": [
       "<matplotlib.figure.Figure at 0x7fb172f86630>"
      ]
     },
     "metadata": {},
     "output_type": "display_data"
    }
   ],
   "source": [
    "# Distributions of the features\n",
    "fig,axes=plt.subplots(2,3,figsize=(18,7))\n",
    "\n",
    "sns.distplot(df_census['fnlwgt'],ax=axes[0,0]);\n",
    "sns.distplot(df_census['age'],ax=axes[0,1]);\n",
    "sns.distplot(df_census['education-num'],ax=axes[0,2]);\n",
    "sns.distplot(df_census['hours-per-week'],ax=axes[1,0]);\n",
    "sns.distplot(df_census['capital-gain'],ax=axes[1,1]);\n",
    "sns.distplot(df_census['capital-loss'],ax=axes[1,2]);\n",
    "\n"
   ]
  },
  {
   "cell_type": "markdown",
   "metadata": {},
   "source": [
    "### Binarizing Data"
   ]
  },
  {
   "cell_type": "code",
   "execution_count": 17,
   "metadata": {},
   "outputs": [],
   "source": [
    "#create an new binarized column\n",
    "df_census['Bin_age'] = pd.cut(df_census['age'],[17,25,35,45,60,80])"
   ]
  },
  {
   "cell_type": "markdown",
   "metadata": {},
   "source": [
    "### In logistic regression, features with normal distribution works best. Let's do some transformations!"
   ]
  },
  {
   "cell_type": "code",
   "execution_count": 18,
   "metadata": {},
   "outputs": [],
   "source": [
    "df_census['fnlwgt']=np.log(df_census['fnlwgt'])\n",
    "df_census['age']=np.log(df_census['age'])\n",
    "# add a constant\n",
    "df_census['capital-gain']=df_census['capital-gain']+1\n",
    "df_census['capital-loss']=df_census['capital-loss']+1"
   ]
  },
  {
   "cell_type": "code",
   "execution_count": 19,
   "metadata": {},
   "outputs": [
    {
     "data": {
      "image/png": "[encoded data removed]",
      "text/plain": [
       "<matplotlib.figure.Figure at 0x7fb1730c3c50>"
      ]
     },
     "metadata": {},
     "output_type": "display_data"
    }
   ],
   "source": [
    "fig,axes=plt.subplots(1,2,figsize=(15,5))\n",
    "\n",
    "sns.distplot(df_census['fnlwgt'],ax=axes[0]);\n",
    "sns.distplot(df_census['age'],ax=axes[1]);\n",
    "\n"
   ]
  },
  {
   "cell_type": "code",
   "execution_count": 20,
   "metadata": {},
   "outputs": [
    {
     "data": {
      "text/html": [
       "<div>\n",
       "<style>\n",
       "    .dataframe thead tr:only-child th {\n",
       "        text-align: right;\n",
       "    }\n",
       "\n",
       "    .dataframe thead th {\n",
       "        text-align: left;\n",
       "    }\n",
       "\n",
       "    .dataframe tbody tr th {\n",
       "        vertical-align: top;\n",
       "    }\n",
       "</style>\n",
       "<table border=\"1\" class=\"dataframe\">\n",
       "  <thead>\n",
       "    <tr style=\"text-align: right;\">\n",
       "      <th></th>\n",
       "      <th>age</th>\n",
       "      <th>workclass</th>\n",
       "      <th>fnlwgt</th>\n",
       "      <th>education</th>\n",
       "      <th>education-num</th>\n",
       "      <th>marital-status</th>\n",
       "      <th>occupation</th>\n",
       "      <th>relationship</th>\n",
       "      <th>race</th>\n",
       "      <th>sex</th>\n",
       "      <th>capital-gain</th>\n",
       "      <th>capital-loss</th>\n",
       "      <th>hours-per-week</th>\n",
       "      <th>native-country</th>\n",
       "      <th>&gt;50k</th>\n",
       "      <th>Bin_age</th>\n",
       "    </tr>\n",
       "  </thead>\n",
       "  <tbody>\n",
       "    <tr>\n",
       "      <th>32556</th>\n",
       "      <td>3.295837</td>\n",
       "      <td>Private</td>\n",
       "      <td>12.458006</td>\n",
       "      <td>Assoc-acdm</td>\n",
       "      <td>12</td>\n",
       "      <td>Married-civ-spouse</td>\n",
       "      <td>Tech-support</td>\n",
       "      <td>Wife</td>\n",
       "      <td>White</td>\n",
       "      <td>Female</td>\n",
       "      <td>1</td>\n",
       "      <td>1</td>\n",
       "      <td>38</td>\n",
       "      <td>United-States</td>\n",
       "      <td>0</td>\n",
       "      <td>(25, 35]</td>\n",
       "    </tr>\n",
       "    <tr>\n",
       "      <th>32557</th>\n",
       "      <td>3.688879</td>\n",
       "      <td>Private</td>\n",
       "      <td>11.947134</td>\n",
       "      <td>HS-grad</td>\n",
       "      <td>9</td>\n",
       "      <td>Married-civ-spouse</td>\n",
       "      <td>Machine-op-inspct</td>\n",
       "      <td>Husband</td>\n",
       "      <td>White</td>\n",
       "      <td>Male</td>\n",
       "      <td>1</td>\n",
       "      <td>1</td>\n",
       "      <td>40</td>\n",
       "      <td>United-States</td>\n",
       "      <td>1</td>\n",
       "      <td>(35, 45]</td>\n",
       "    </tr>\n",
       "    <tr>\n",
       "      <th>32558</th>\n",
       "      <td>4.060443</td>\n",
       "      <td>Private</td>\n",
       "      <td>11.931044</td>\n",
       "      <td>HS-grad</td>\n",
       "      <td>9</td>\n",
       "      <td>Widowed</td>\n",
       "      <td>Adm-clerical</td>\n",
       "      <td>Unmarried</td>\n",
       "      <td>White</td>\n",
       "      <td>Female</td>\n",
       "      <td>1</td>\n",
       "      <td>1</td>\n",
       "      <td>40</td>\n",
       "      <td>United-States</td>\n",
       "      <td>0</td>\n",
       "      <td>(45, 60]</td>\n",
       "    </tr>\n",
       "    <tr>\n",
       "      <th>32559</th>\n",
       "      <td>3.091042</td>\n",
       "      <td>Private</td>\n",
       "      <td>12.213495</td>\n",
       "      <td>HS-grad</td>\n",
       "      <td>9</td>\n",
       "      <td>Never-married</td>\n",
       "      <td>Adm-clerical</td>\n",
       "      <td>Own-child</td>\n",
       "      <td>White</td>\n",
       "      <td>Male</td>\n",
       "      <td>1</td>\n",
       "      <td>1</td>\n",
       "      <td>20</td>\n",
       "      <td>United-States</td>\n",
       "      <td>0</td>\n",
       "      <td>(17, 25]</td>\n",
       "    </tr>\n",
       "    <tr>\n",
       "      <th>32560</th>\n",
       "      <td>3.951244</td>\n",
       "      <td>Self-emp-inc</td>\n",
       "      <td>12.570462</td>\n",
       "      <td>HS-grad</td>\n",
       "      <td>9</td>\n",
       "      <td>Married-civ-spouse</td>\n",
       "      <td>Exec-managerial</td>\n",
       "      <td>Wife</td>\n",
       "      <td>White</td>\n",
       "      <td>Female</td>\n",
       "      <td>15025</td>\n",
       "      <td>1</td>\n",
       "      <td>40</td>\n",
       "      <td>United-States</td>\n",
       "      <td>1</td>\n",
       "      <td>(45, 60]</td>\n",
       "    </tr>\n",
       "  </tbody>\n",
       "</table>\n",
       "</div>"
      ],
      "text/plain": [
       "            age      workclass     fnlwgt    education  education-num  \\\n",
       "32556  3.295837        Private  12.458006   Assoc-acdm             12   \n",
       "32557  3.688879        Private  11.947134      HS-grad              9   \n",
       "32558  4.060443        Private  11.931044      HS-grad              9   \n",
       "32559  3.091042        Private  12.213495      HS-grad              9   \n",
       "32560  3.951244   Self-emp-inc  12.570462      HS-grad              9   \n",
       "\n",
       "            marital-status          occupation relationship    race      sex  \\\n",
       "32556   Married-civ-spouse        Tech-support         Wife   White   Female   \n",
       "32557   Married-civ-spouse   Machine-op-inspct      Husband   White     Male   \n",
       "32558              Widowed        Adm-clerical    Unmarried   White   Female   \n",
       "32559        Never-married        Adm-clerical    Own-child   White     Male   \n",
       "32560   Married-civ-spouse     Exec-managerial         Wife   White   Female   \n",
       "\n",
       "       capital-gain  capital-loss  hours-per-week  native-country  >50k  \\\n",
       "32556             1             1              38   United-States     0   \n",
       "32557             1             1              40   United-States     1   \n",
       "32558             1             1              40   United-States     0   \n",
       "32559             1             1              20   United-States     0   \n",
       "32560         15025             1              40   United-States     1   \n",
       "\n",
       "        Bin_age  \n",
       "32556  (25, 35]  \n",
       "32557  (35, 45]  \n",
       "32558  (45, 60]  \n",
       "32559  (17, 25]  \n",
       "32560  (45, 60]  "
      ]
     },
     "execution_count": 20,
     "metadata": {},
     "output_type": "execute_result"
    }
   ],
   "source": [
    "df_census.tail()"
   ]
  },
  {
   "cell_type": "markdown",
   "metadata": {},
   "source": [
    "## 3 - Feature selection\n",
    "#### This is a technique used when there are an large number of variables in the dataset.\n",
    "#### Let's use a technique known as \"Information Value\". it's used to select variables relevant to the fit model and generates a score for each variable "
   ]
  },
  {
   "cell_type": "code",
   "execution_count": 21,
   "metadata": {},
   "outputs": [],
   "source": [
    " #Creating IV_calc function \n",
    "    def IV_calc(data,var):\n",
    "        if data[var].dtypes == \"object\":\n",
    "            dataf = data.groupby([var])['>50k'].agg(['count','sum'])\n",
    "            dataf.columns = [\"Total\",\"bad\"]\n",
    "            dataf[\"good\"] = dataf[\"Total\"] - dataf[\"bad\"]\n",
    "            dataf[\"bad_per\"] = dataf[\"bad\"]/dataf[\"bad\"].sum()\n",
    "            dataf[\"good_per\"] = dataf[\"good\"]/dataf[\"good\"].sum()\n",
    "            dataf[\"I_V\"] = (dataf[\"good_per\"] - dataf[\"bad_per\"]) * np.log(dataf[\"good_per\"]/dataf[\"bad_per\"])\n",
    "            return dataf\n",
    "        else:\n",
    "            data['bin_var'] = pd.qcut(data[var].rank(method='first'),10)\n",
    "            dataf = data.groupby(['bin_var'])['>50k'].agg(['count','sum'])\n",
    "            dataf.columns = [\"Total\",\"bad\"]\n",
    "            dataf[\"good\"] = dataf[\"Total\"] - dataf[\"bad\"]\n",
    "            dataf[\"bad_per\"] = dataf[\"bad\"]/dataf[\"bad\"].sum()\n",
    "            dataf[\"good_per\"] = dataf[\"good\"]/dataf[\"good\"].sum()\n",
    "            dataf[\"I_V\"] = (dataf[\"good_per\"] - dataf[\"bad_per\"]) * np.log(dataf[\"good_per\"]/dataf[\"bad_per\"])\n",
    "            return dataf\n"
   ]
  },
  {
   "cell_type": "code",
   "execution_count": 22,
   "metadata": {},
   "outputs": [
    {
     "name": "stdout",
     "output_type": "stream",
     "text": [
      "inf , workclass ,type = object\n",
      "inf , native-country ,type = object\n",
      "inf , education ,type = object\n",
      "1.536 , relationship ,type = object\n",
      "1.339 , marital-status ,type = object\n",
      "1.138 , age ,type = float64\n",
      "0.776 , occupation ,type = object\n",
      "0.743 , Bin_age ,type = category\n",
      "0.678 , education-num ,type = int64\n",
      "0.444 , hours-per-week ,type = int64\n",
      "0.303 , sex ,type = object\n",
      "0.263 , capital-gain ,type = int64\n",
      "0.069 , race ,type = object\n",
      "0.048 , capital-loss ,type = int64\n",
      "0.008 , fnlwgt ,type = float64\n"
     ]
    }
   ],
   "source": [
    "# List of IV values\n",
    "total_columns = ['age', 'workclass', 'fnlwgt', 'education', 'education-num',\n",
    "       'marital-status', 'occupation', 'relationship', 'race', 'sex',\n",
    "       'capital-gain', 'capital-loss', 'hours-per-week', 'native-country','Bin_age' ]\n",
    "Iv_list = []\n",
    "for col in total_columns:\n",
    "    assigned_data = IV_calc(data = df_census,var = col)\n",
    "    iv_val = round(assigned_data[\"I_V\"].sum(),3)\n",
    "    dt_type = df_census[col].dtypes\n",
    "    Iv_list.append((iv_val,col,dt_type))\n",
    "Iv_list = sorted(Iv_list,reverse = True)\n",
    "for i in range(len(Iv_list)):\n",
    "    print (Iv_list[i][0],\",\",Iv_list[i][1],\",type =\",Iv_list[i][2])"
   ]
  },
  {
   "cell_type": "markdown",
   "metadata": {},
   "source": [
    "### The table below, shows an indicator for the values:\n",
    "#### < 0.02 -> Useless for prediction\n",
    "#### 0.02 to 0.1 -> Weak for prediction\n",
    "#### 0.01 to 0.3 -> Medium for prediction\n",
    "#### 0.03 to 0.5 -> Strong for prediction\n",
    "#### > 0.05 -> too good for prediction\n"
   ]
  },
  {
   "cell_type": "markdown",
   "metadata": {},
   "source": [
    "## 4- Generating the model\n",
    "#### - Creating of df from Function IV\n",
    "#### - Hot encoder technique \n",
    "#### - Concatenate dataframes\n"
   ]
  },
  {
   "cell_type": "code",
   "execution_count": 23,
   "metadata": {},
   "outputs": [],
   "source": [
    "#one hot encoder\n",
    "#Creating dummy variables\n",
    "df_dummy = pd.get_dummies(df_census[['occupation','marital-status','relationship','sex','Bin_age']],drop_first=True)\n"
   ]
  },
  {
   "cell_type": "code",
   "execution_count": 24,
   "metadata": {},
   "outputs": [],
   "source": [
    "#concatenate\n",
    "df_model = pd.concat([df_census[['education-num','hours-per-week','>50k']],df_dummy],axis=1)"
   ]
  },
  {
   "cell_type": "code",
   "execution_count": 25,
   "metadata": {},
   "outputs": [
    {
     "data": {
      "text/html": [
       "<div>\n",
       "<style>\n",
       "    .dataframe thead tr:only-child th {\n",
       "        text-align: right;\n",
       "    }\n",
       "\n",
       "    .dataframe thead th {\n",
       "        text-align: left;\n",
       "    }\n",
       "\n",
       "    .dataframe tbody tr th {\n",
       "        vertical-align: top;\n",
       "    }\n",
       "</style>\n",
       "<table border=\"1\" class=\"dataframe\">\n",
       "  <thead>\n",
       "    <tr style=\"text-align: right;\">\n",
       "      <th></th>\n",
       "      <th>education-num</th>\n",
       "      <th>hours-per-week</th>\n",
       "      <th>&gt;50k</th>\n",
       "      <th>occupation_ Adm-clerical</th>\n",
       "      <th>occupation_ Armed-Forces</th>\n",
       "      <th>occupation_ Craft-repair</th>\n",
       "      <th>occupation_ Exec-managerial</th>\n",
       "      <th>occupation_ Farming-fishing</th>\n",
       "      <th>occupation_ Handlers-cleaners</th>\n",
       "      <th>occupation_ Machine-op-inspct</th>\n",
       "      <th>...</th>\n",
       "      <th>relationship_ Not-in-family</th>\n",
       "      <th>relationship_ Other-relative</th>\n",
       "      <th>relationship_ Own-child</th>\n",
       "      <th>relationship_ Unmarried</th>\n",
       "      <th>relationship_ Wife</th>\n",
       "      <th>sex_ Male</th>\n",
       "      <th>Bin_age_(25, 35]</th>\n",
       "      <th>Bin_age_(35, 45]</th>\n",
       "      <th>Bin_age_(45, 60]</th>\n",
       "      <th>Bin_age_(60, 80]</th>\n",
       "    </tr>\n",
       "  </thead>\n",
       "  <tbody>\n",
       "    <tr>\n",
       "      <th>0</th>\n",
       "      <td>13</td>\n",
       "      <td>40</td>\n",
       "      <td>0</td>\n",
       "      <td>1</td>\n",
       "      <td>0</td>\n",
       "      <td>0</td>\n",
       "      <td>0</td>\n",
       "      <td>0</td>\n",
       "      <td>0</td>\n",
       "      <td>0</td>\n",
       "      <td>...</td>\n",
       "      <td>1</td>\n",
       "      <td>0</td>\n",
       "      <td>0</td>\n",
       "      <td>0</td>\n",
       "      <td>0</td>\n",
       "      <td>1</td>\n",
       "      <td>0</td>\n",
       "      <td>1</td>\n",
       "      <td>0</td>\n",
       "      <td>0</td>\n",
       "    </tr>\n",
       "    <tr>\n",
       "      <th>1</th>\n",
       "      <td>13</td>\n",
       "      <td>13</td>\n",
       "      <td>0</td>\n",
       "      <td>0</td>\n",
       "      <td>0</td>\n",
       "      <td>0</td>\n",
       "      <td>1</td>\n",
       "      <td>0</td>\n",
       "      <td>0</td>\n",
       "      <td>0</td>\n",
       "      <td>...</td>\n",
       "      <td>0</td>\n",
       "      <td>0</td>\n",
       "      <td>0</td>\n",
       "      <td>0</td>\n",
       "      <td>0</td>\n",
       "      <td>1</td>\n",
       "      <td>0</td>\n",
       "      <td>0</td>\n",
       "      <td>1</td>\n",
       "      <td>0</td>\n",
       "    </tr>\n",
       "    <tr>\n",
       "      <th>2</th>\n",
       "      <td>9</td>\n",
       "      <td>40</td>\n",
       "      <td>0</td>\n",
       "      <td>0</td>\n",
       "      <td>0</td>\n",
       "      <td>0</td>\n",
       "      <td>0</td>\n",
       "      <td>0</td>\n",
       "      <td>1</td>\n",
       "      <td>0</td>\n",
       "      <td>...</td>\n",
       "      <td>1</td>\n",
       "      <td>0</td>\n",
       "      <td>0</td>\n",
       "      <td>0</td>\n",
       "      <td>0</td>\n",
       "      <td>1</td>\n",
       "      <td>0</td>\n",
       "      <td>1</td>\n",
       "      <td>0</td>\n",
       "      <td>0</td>\n",
       "    </tr>\n",
       "    <tr>\n",
       "      <th>3</th>\n",
       "      <td>7</td>\n",
       "      <td>40</td>\n",
       "      <td>0</td>\n",
       "      <td>0</td>\n",
       "      <td>0</td>\n",
       "      <td>0</td>\n",
       "      <td>0</td>\n",
       "      <td>0</td>\n",
       "      <td>1</td>\n",
       "      <td>0</td>\n",
       "      <td>...</td>\n",
       "      <td>0</td>\n",
       "      <td>0</td>\n",
       "      <td>0</td>\n",
       "      <td>0</td>\n",
       "      <td>0</td>\n",
       "      <td>1</td>\n",
       "      <td>0</td>\n",
       "      <td>0</td>\n",
       "      <td>1</td>\n",
       "      <td>0</td>\n",
       "    </tr>\n",
       "    <tr>\n",
       "      <th>4</th>\n",
       "      <td>13</td>\n",
       "      <td>40</td>\n",
       "      <td>0</td>\n",
       "      <td>0</td>\n",
       "      <td>0</td>\n",
       "      <td>0</td>\n",
       "      <td>0</td>\n",
       "      <td>0</td>\n",
       "      <td>0</td>\n",
       "      <td>0</td>\n",
       "      <td>...</td>\n",
       "      <td>0</td>\n",
       "      <td>0</td>\n",
       "      <td>0</td>\n",
       "      <td>0</td>\n",
       "      <td>1</td>\n",
       "      <td>0</td>\n",
       "      <td>1</td>\n",
       "      <td>0</td>\n",
       "      <td>0</td>\n",
       "      <td>0</td>\n",
       "    </tr>\n",
       "  </tbody>\n",
       "</table>\n",
       "<p>5 rows × 33 columns</p>\n",
       "</div>"
      ],
      "text/plain": [
       "   education-num  hours-per-week  >50k  occupation_ Adm-clerical  \\\n",
       "0             13              40     0                         1   \n",
       "1             13              13     0                         0   \n",
       "2              9              40     0                         0   \n",
       "3              7              40     0                         0   \n",
       "4             13              40     0                         0   \n",
       "\n",
       "   occupation_ Armed-Forces  occupation_ Craft-repair  \\\n",
       "0                         0                         0   \n",
       "1                         0                         0   \n",
       "2                         0                         0   \n",
       "3                         0                         0   \n",
       "4                         0                         0   \n",
       "\n",
       "   occupation_ Exec-managerial  occupation_ Farming-fishing  \\\n",
       "0                            0                            0   \n",
       "1                            1                            0   \n",
       "2                            0                            0   \n",
       "3                            0                            0   \n",
       "4                            0                            0   \n",
       "\n",
       "   occupation_ Handlers-cleaners  occupation_ Machine-op-inspct  \\\n",
       "0                              0                              0   \n",
       "1                              0                              0   \n",
       "2                              1                              0   \n",
       "3                              1                              0   \n",
       "4                              0                              0   \n",
       "\n",
       "         ...         relationship_ Not-in-family  \\\n",
       "0        ...                                   1   \n",
       "1        ...                                   0   \n",
       "2        ...                                   1   \n",
       "3        ...                                   0   \n",
       "4        ...                                   0   \n",
       "\n",
       "   relationship_ Other-relative  relationship_ Own-child  \\\n",
       "0                             0                        0   \n",
       "1                             0                        0   \n",
       "2                             0                        0   \n",
       "3                             0                        0   \n",
       "4                             0                        0   \n",
       "\n",
       "   relationship_ Unmarried  relationship_ Wife  sex_ Male  Bin_age_(25, 35]  \\\n",
       "0                        0                   0          1                 0   \n",
       "1                        0                   0          1                 0   \n",
       "2                        0                   0          1                 0   \n",
       "3                        0                   0          1                 0   \n",
       "4                        0                   1          0                 1   \n",
       "\n",
       "   Bin_age_(35, 45]  Bin_age_(45, 60]  Bin_age_(60, 80]  \n",
       "0                 1                 0                 0  \n",
       "1                 0                 1                 0  \n",
       "2                 1                 0                 0  \n",
       "3                 0                 1                 0  \n",
       "4                 0                 0                 0  \n",
       "\n",
       "[5 rows x 33 columns]"
      ]
     },
     "execution_count": 25,
     "metadata": {},
     "output_type": "execute_result"
    }
   ],
   "source": [
    "df_model.head()"
   ]
  },
  {
   "cell_type": "code",
   "execution_count": 26,
   "metadata": {},
   "outputs": [],
   "source": [
    "## Split dataframe in Training and test dataset\n",
    "X_train,X_test,y_train,y_test = train_test_split(df_model.loc[:,df_model.columns !='>50k'],df_model.loc[:,'>50k'])"
   ]
  },
  {
   "cell_type": "code",
   "execution_count": 27,
   "metadata": {},
   "outputs": [
    {
     "name": "stdout",
     "output_type": "stream",
     "text": [
      "Optimization terminated successfully.\n",
      "         Current function value: 0.345395\n",
      "         Iterations 9\n"
     ]
    }
   ],
   "source": [
    "# fit the model\n",
    "X = sm.add_constant(X_train)\n",
    "logistic = sm.Logit(y_train,X).fit()"
   ]
  },
  {
   "cell_type": "code",
   "execution_count": 28,
   "metadata": {},
   "outputs": [
    {
     "name": "stdout",
     "output_type": "stream",
     "text": [
      "                           Logit Regression Results                           \n",
      "==============================================================================\n",
      "Dep. Variable:                   >50k   No. Observations:                24420\n",
      "Model:                          Logit   Df Residuals:                    24387\n",
      "Method:                           MLE   Df Model:                           32\n",
      "Date:                Sat, 09 Feb 2019   Pseudo R-squ.:                  0.3769\n",
      "Time:                        21:27:04   Log-Likelihood:                -8434.6\n",
      "converged:                       True   LL-Null:                       -13535.\n",
      "                                        LLR p-value:                     0.000\n",
      "=========================================================================================================\n",
      "                                            coef    std err          z      P>|z|      [0.025      0.975]\n",
      "---------------------------------------------------------------------------------------------------------\n",
      "const                                    -9.5449      0.363    -26.276      0.000     -10.257      -8.833\n",
      "education-num                             0.2850      0.010     28.563      0.000       0.265       0.305\n",
      "hours-per-week                            0.0268      0.002     14.872      0.000       0.023       0.030\n",
      "occupation_ Adm-clerical                  0.3457      0.127      2.729      0.006       0.097       0.594\n",
      "occupation_ Armed-Forces                 -0.1541      1.330     -0.116      0.908      -2.762       2.453\n",
      "occupation_ Craft-repair                  0.2892      0.120      2.406      0.016       0.054       0.525\n",
      "occupation_ Exec-managerial               1.0795      0.118      9.145      0.000       0.848       1.311\n",
      "occupation_ Farming-fishing              -0.8898      0.171     -5.215      0.000      -1.224      -0.555\n",
      "occupation_ Handlers-cleaners            -0.4019      0.177     -2.268      0.023      -0.749      -0.055\n",
      "occupation_ Machine-op-inspct            -0.0675      0.139     -0.485      0.628      -0.340       0.205\n",
      "occupation_ Other-service                -0.6576      0.154     -4.275      0.000      -0.959      -0.356\n",
      "occupation_ Priv-house-serv              -1.7912      1.086     -1.649      0.099      -3.920       0.337\n",
      "occupation_ Prof-specialty                0.8675      0.120      7.213      0.000       0.632       1.103\n",
      "occupation_ Protective-serv               0.6641      0.157      4.233      0.000       0.357       0.972\n",
      "occupation_ Sales                         0.6147      0.121      5.071      0.000       0.377       0.852\n",
      "occupation_ Tech-support                  0.9075      0.150      6.042      0.000       0.613       1.202\n",
      "occupation_ Transport-moving              0.0184      0.137      0.135      0.893      -0.249       0.286\n",
      "marital-status_ Married-AF-spouse         2.8786      0.645      4.464      0.000       1.615       4.143\n",
      "marital-status_ Married-civ-spouse        2.1783      0.289      7.530      0.000       1.611       2.745\n",
      "marital-status_ Married-spouse-absent    -0.0351      0.247     -0.142      0.887      -0.519       0.448\n",
      "marital-status_ Never-married            -0.1812      0.092     -1.970      0.049      -0.362      -0.001\n",
      "marital-status_ Separated                -0.2157      0.176     -1.227      0.220      -0.560       0.129\n",
      "marital-status_ Widowed                   0.5849      0.155      3.777      0.000       0.281       0.888\n",
      "relationship_ Not-in-family               0.5330      0.287      1.858      0.063      -0.029       1.095\n",
      "relationship_ Other-relative             -0.5381      0.264     -2.035      0.042      -1.056      -0.020\n",
      "relationship_ Own-child                  -0.4362      0.286     -1.527      0.127      -0.996       0.124\n",
      "relationship_ Unmarried                   0.2577      0.303      0.850      0.395      -0.336       0.852\n",
      "relationship_ Wife                        1.2934      0.111     11.686      0.000       1.076       1.510\n",
      "sex_ Male                                 0.8965      0.083     10.752      0.000       0.733       1.060\n",
      "Bin_age_(25, 35]                          1.1826      0.121      9.743      0.000       0.945       1.421\n",
      "Bin_age_(35, 45]                          1.8358      0.121     15.131      0.000       1.598       2.074\n",
      "Bin_age_(45, 60]                          2.1000      0.122     17.195      0.000       1.861       2.339\n",
      "Bin_age_(60, 80]                          1.6885      0.138     12.227      0.000       1.418       1.959\n",
      "=========================================================================================================\n"
     ]
    }
   ],
   "source": [
    "# Summary of model\n",
    "print (logistic.summary())"
   ]
  },
  {
   "cell_type": "code",
   "execution_count": 29,
   "metadata": {},
   "outputs": [],
   "source": [
    "y_pred = logistic.predict(X)"
   ]
  },
  {
   "cell_type": "code",
   "execution_count": 30,
   "metadata": {},
   "outputs": [],
   "source": [
    "from sklearn.metrics import confusion_matrix, accuracy_score"
   ]
  },
  {
   "cell_type": "code",
   "execution_count": 31,
   "metadata": {},
   "outputs": [],
   "source": [
    "df_result = pd.concat([y_train,y_pred],axis=1)"
   ]
  },
  {
   "cell_type": "code",
   "execution_count": 32,
   "metadata": {},
   "outputs": [],
   "source": [
    "df_result.rename(columns={'>50k':'Train',0:'Pred'},inplace=True)"
   ]
  },
  {
   "cell_type": "code",
   "execution_count": 33,
   "metadata": {},
   "outputs": [],
   "source": [
    "df_result['Probs']= df_result['Pred']"
   ]
  },
  {
   "cell_type": "code",
   "execution_count": null,
   "metadata": {},
   "outputs": [],
   "source": [
    "accuracy_score(df_result['Train'], df_result['Pred'])"
   ]
  },
  {
   "cell_type": "code",
   "execution_count": 35,
   "metadata": {},
   "outputs": [
    {
     "name": "stdout",
     "output_type": "stream",
     "text": [
      "Threshold 0.0 Train Accuracy: 0.2428\n",
      "Threshold 0.1 Train Accuracy: 0.6936\n",
      "Threshold 0.2 Train Accuracy: 0.7685\n",
      "Threshold 0.3 Train Accuracy: 0.8103\n",
      "Threshold 0.4 Train Accuracy: 0.8339\n",
      "Threshold 0.5 Train Accuracy: 0.8363\n",
      "Threshold 0.6 Train Accuracy: 0.8305\n",
      "Threshold 0.7 Train Accuracy: 0.8194\n",
      "Threshold 0.8 Train Accuracy: 0.796\n",
      "Threshold 0.9 Train Accuracy: 0.7627\n"
     ]
    }
   ],
   "source": [
    "for i in list(np.arange(0,1,0.1)):\n",
    "    df_result[\"Pred\"] = 0\n",
    "    df_result.loc[df_result[\"Probs\"] > i, 'Pred'] = 1\n",
    "    print (\"Threshold\",i,\"Train Accuracy:\",round(accuracy_score(df_result['Train'], df_result['Pred']),4))"
   ]
  },
  {
   "cell_type": "code",
   "execution_count": 36,
   "metadata": {},
   "outputs": [
    {
     "name": "stdout",
     "output_type": "stream",
     "text": [
      "[[17029  1462]\n",
      " [ 2536  3393]]\n",
      "Score  0.836281736282\n"
     ]
    }
   ],
   "source": [
    "df_result[\"Pred\"] = 0\n",
    "df_result.loc[df_result[\"Probs\"] > 0.5, 'Pred'] = 1\n",
    "print(confusion_matrix(df_result['Train'],df_result['Pred']))\n",
    "print('Score ',accuracy_score(df_result['Train'], df_result['Pred']))"
   ]
  },
  {
   "cell_type": "markdown",
   "metadata": {},
   "source": [
    "### The score was high, but viewing the confusion matrix , note the class was imbalanced. Hence an important metric is Recall and Precision\n",
    "\n",
    "### Precision\n",
    "Precision = True Positive /(True Positive + False Positive) \n",
    "##### Precision shows how precise your model is against a True Positive.\n",
    "### Recall\n",
    "Recall = True Positive /(True Positive + False Negative) \n",
    "##### Recall shows how precise your model is predicting that Actual Positives is a True Positive"
   ]
  },
  {
   "cell_type": "markdown",
   "metadata": {},
   "source": [
    "## Random Forest"
   ]
  },
  {
   "cell_type": "code",
   "execution_count": 41,
   "metadata": {},
   "outputs": [],
   "source": [
    "from sklearn.ensemble import RandomForestClassifier\n",
    "from sklearn.metrics import classification_report"
   ]
  },
  {
   "cell_type": "code",
   "execution_count": 38,
   "metadata": {},
   "outputs": [],
   "source": [
    "#one hot encoder\n",
    "#Creating dummy variables without 'drop_first'argument\n",
    "df_dummy = pd.get_dummies(df_census[['occupation','marital-status','relationship','sex','Bin_age']])\n",
    "#concatenate\n",
    "df_model_rf = pd.concat([df_census[['education-num','hours-per-week','>50k']],df_dummy],axis=1)"
   ]
  },
  {
   "cell_type": "code",
   "execution_count": 39,
   "metadata": {},
   "outputs": [],
   "source": [
    "## Split dataframe in Training and test dataset\n",
    "X_train,X_test,y_train,y_test = train_test_split(df_model_rf.loc[:,df_model_rf.columns !='>50k'],df_model_rf.loc[:,'>50k'])"
   ]
  },
  {
   "cell_type": "code",
   "execution_count": 40,
   "metadata": {},
   "outputs": [
    {
     "data": {
      "text/plain": [
       "RandomForestClassifier(bootstrap=True, class_weight=None, criterion='gini',\n",
       "            max_depth=100, max_features='auto', max_leaf_nodes=None,\n",
       "            min_impurity_decrease=0.0, min_impurity_split=None,\n",
       "            min_samples_leaf=2, min_samples_split=3,\n",
       "            min_weight_fraction_leaf=0.0, n_estimators=1000, n_jobs=1,\n",
       "            oob_score=False, random_state=None, verbose=0,\n",
       "            warm_start=False)"
      ]
     },
     "execution_count": 40,
     "metadata": {},
     "output_type": "execute_result"
    }
   ],
   "source": [
    "model_rf = RandomForestClassifier( n_estimators=1000, criterion=\"gini\",max_depth=100, min_samples_split=3,min_samples_leaf=2)\n",
    "model_rf.fit(X_train,y_train)"
   ]
  },
  {
   "cell_type": "code",
   "execution_count": 42,
   "metadata": {},
   "outputs": [
    {
     "name": "stdout",
     "output_type": "stream",
     "text": [
      "Training score  0.869533169533\n",
      "Test score  0.828890799656\n"
     ]
    }
   ],
   "source": [
    "print('Training score ',accuracy_score(y_train, model_rf.predict(X_train)))\n",
    "print('Test score ',accuracy_score(y_test, model_rf.predict(X_test)))\n"
   ]
  },
  {
   "cell_type": "code",
   "execution_count": 57,
   "metadata": {},
   "outputs": [],
   "source": [
    "y_pred = model_rf.predict(X_test)"
   ]
  },
  {
   "cell_type": "code",
   "execution_count": 44,
   "metadata": {},
   "outputs": [
    {
     "data": {
      "text/html": [
       "<div>\n",
       "<style>\n",
       "    .dataframe thead tr:only-child th {\n",
       "        text-align: right;\n",
       "    }\n",
       "\n",
       "    .dataframe thead th {\n",
       "        text-align: left;\n",
       "    }\n",
       "\n",
       "    .dataframe tbody tr th {\n",
       "        vertical-align: top;\n",
       "    }\n",
       "</style>\n",
       "<table border=\"1\" class=\"dataframe\">\n",
       "  <thead>\n",
       "    <tr style=\"text-align: right;\">\n",
       "      <th>Predicted</th>\n",
       "      <th>0</th>\n",
       "      <th>1</th>\n",
       "    </tr>\n",
       "    <tr>\n",
       "      <th>Actuall</th>\n",
       "      <th></th>\n",
       "      <th></th>\n",
       "    </tr>\n",
       "  </thead>\n",
       "  <tbody>\n",
       "    <tr>\n",
       "      <th>0</th>\n",
       "      <td>5689</td>\n",
       "      <td>552</td>\n",
       "    </tr>\n",
       "    <tr>\n",
       "      <th>1</th>\n",
       "      <td>841</td>\n",
       "      <td>1059</td>\n",
       "    </tr>\n",
       "  </tbody>\n",
       "</table>\n",
       "</div>"
      ],
      "text/plain": [
       "Predicted     0     1\n",
       "Actuall              \n",
       "0          5689   552\n",
       "1           841  1059"
      ]
     },
     "execution_count": 44,
     "metadata": {},
     "output_type": "execute_result"
    }
   ],
   "source": [
    "# Confusion matrix\n",
    "pd.crosstab(y_test.values, y_pred,rownames =[\"Actuall\"],colnames = [\"Predicted\"])"
   ]
  },
  {
   "cell_type": "code",
   "execution_count": 69,
   "metadata": {},
   "outputs": [
    {
     "name": "stdout",
     "output_type": "stream",
     "text": [
      "             precision    recall  f1-score   support\n",
      "\n",
      "    class 0       0.87      0.91      0.89      6241\n",
      "    class 1       0.66      0.56      0.60      1900\n",
      "\n",
      "avg / total       0.82      0.83      0.82      8141\n",
      "\n"
     ]
    }
   ],
   "source": [
    "# Calculating Precision. Recall and f1-score\n",
    "target_names = ['<50K', '>50K']\n",
    "print(classification_report(y_test.values,y_pred,target_names=target_names))"
   ]
  },
  {
   "cell_type": "code",
   "execution_count": 71,
   "metadata": {},
   "outputs": [],
   "source": [
    "dummyarray = np.empty((6,10))\n",
    "dt_weight = pd.DataFrame(dummyarray)\n",
    "\n",
    "dt_weight.columns = [\"zero_wght\",\"one_wght\",\"tr_accuracy\",\n",
    "\"tst_accuracy\", \"prec_zero\",\"prec_one\", \"prec_ovll\",\n",
    "\"recl_zero\",\"recl_one\",\"recl_ovll\"]"
   ]
  },
  {
   "cell_type": "code",
   "execution_count": 72,
   "metadata": {},
   "outputs": [],
   "source": [
    "weights = [0.01,0.1,0.2,0.3,0.4,0.5]"
   ]
  },
  {
   "cell_type": "code",
   "execution_count": 73,
   "metadata": {},
   "outputs": [
    {
     "name": "stdout",
     "output_type": "stream",
     "text": [
      "\n",
      "Class Weights {0: 0.01, 1: 0.99} Train accuracy: 0.758 Test accuracy: 0.7\n",
      "Test ConfusionMatrix\n",
      "\n",
      " Predicted     0     1\n",
      "Actuall              \n",
      "0          3992  2249\n",
      "1           194  1706\n",
      "\n",
      "Class Weights {0: 0.1, 1: 0.9} Train accuracy: 0.807 Test accuracy: 0.752\n",
      "Test ConfusionMatrix\n",
      "\n",
      " Predicted     0     1\n",
      "Actuall              \n",
      "0          4477  1764\n",
      "1           258  1642\n",
      "\n",
      "Class Weights {0: 0.2, 1: 0.8} Train accuracy: 0.839 Test accuracy: 0.787\n",
      "Test ConfusionMatrix\n",
      "\n",
      " Predicted     0     1\n",
      "Actuall              \n",
      "0          4880  1361\n",
      "1           373  1527\n",
      "\n",
      "Class Weights {0: 0.3, 1: 0.7} Train accuracy: 0.86 Test accuracy: 0.806\n",
      "Test ConfusionMatrix\n",
      "\n",
      " Predicted     0     1\n",
      "Actuall              \n",
      "0          5197  1044\n",
      "1           535  1365\n",
      "\n",
      "Class Weights {0: 0.4, 1: 0.6} Train accuracy: 0.868 Test accuracy: 0.821\n",
      "Test ConfusionMatrix\n",
      "\n",
      " Predicted     0     1\n",
      "Actuall              \n",
      "0          5441   800\n",
      "1           657  1243\n",
      "\n",
      "Class Weights {0: 0.5, 1: 0.5} Train accuracy: 0.869 Test accuracy: 0.83\n",
      "Test ConfusionMatrix\n",
      "\n",
      " Predicted     0     1\n",
      "Actuall              \n",
      "0          5690   551\n",
      "1           837  1063\n"
     ]
    }
   ],
   "source": [
    "#Testing some Class weights:\n",
    "for i in range(len(weights)):\n",
    "    clwght = {0:weights[i],1:1.0-weights[i]}\n",
    "    dt_fit =  RandomForestClassifier( n_estimators=1000, criterion=\"gini\",max_depth=100, min_samples_split=3,min_samples_leaf=2,class_weight =\n",
    "clwght)\n",
    "    #DecisionTreeClassifier(criterion=\"gini\", max_depth=5,\n",
    "    #min_samples_split=2, min_samples_leaf=1,random_state=42,class_weight =\n",
    "#clwght)\n",
    "    dt_fit.fit(X_train,y_train)\n",
    "    dt_weight.loc[i, 'zero_wght'] = clwght[0]\n",
    "    dt_weight.loc[i, 'one_wght'] = clwght[1]\n",
    "    dt_weight.loc[i, 'tr_accuracy'] = round(accuracy_score(y_train,dt_fit.predict(X_train)),3)\n",
    "    dt_weight.loc[i, 'tst_accuracy'] =round(accuracy_score(y_test,dt_fit.predict(X_test)),3)\n",
    "    clf_sp =classification_report(y_test,dt_fit.predict(X_test)).split()\n",
    "    dt_weight.loc[i, 'prec_zero'] = float(clf_sp[5])\n",
    "    dt_weight.loc[i, 'prec_one'] = float(clf_sp[10])\n",
    "    dt_weight.loc[i, 'prec_ovll'] = float(clf_sp[17])\n",
    "    dt_weight.loc[i, 'recl_zero'] = float(clf_sp[6])\n",
    "    dt_weight.loc[i, 'recl_one'] = float(clf_sp[11])\n",
    "    dt_weight.loc[i, 'recl_ovll'] = float(clf_sp[18])\n",
    "    print (\"\\nClass Weights\",clwght,\"Train accuracy:\",round(accuracy_score( y_train,dt_fit.predict(X_train)),3),\"Test accuracy:\",\n",
    "    round(accuracy_score(y_test, dt_fit.predict(X_test)),3))\n",
    "    print (\"Test ConfusionMatrix\\n\\n\",pd.crosstab(y_test,dt_fit.predict( X_test),rownames =[\"Actuall\"],colnames = [\"Predicted\"]))"
   ]
  },
  {
   "cell_type": "markdown",
   "metadata": {},
   "source": [
    "### Executing the model with chosen weight"
   ]
  },
  {
   "cell_type": "code",
   "execution_count": 74,
   "metadata": {},
   "outputs": [
    {
     "data": {
      "text/plain": [
       "RandomForestClassifier(bootstrap=True, class_weight={0: 0.3, 1: 0.7},\n",
       "            criterion='gini', max_depth=100, max_features='auto',\n",
       "            max_leaf_nodes=None, min_impurity_decrease=0.0,\n",
       "            min_impurity_split=None, min_samples_leaf=2,\n",
       "            min_samples_split=3, min_weight_fraction_leaf=0.0,\n",
       "            n_estimators=1000, n_jobs=1, oob_score=False,\n",
       "            random_state=None, verbose=0, warm_start=False)"
      ]
     },
     "execution_count": 74,
     "metadata": {},
     "output_type": "execute_result"
    }
   ],
   "source": [
    "rf_model = RandomForestClassifier( n_estimators=1000, criterion=\"gini\",max_depth=100, min_samples_split=3,min_samples_leaf=2,class_weight =\n",
    "{0:0.3,1:0.7})\n",
    "rf_model.fit(X_train,y_train)"
   ]
  },
  {
   "cell_type": "code",
   "execution_count": 75,
   "metadata": {},
   "outputs": [
    {
     "name": "stdout",
     "output_type": "stream",
     "text": [
      "Test ConfusionMatrix\n",
      "\n",
      " Predicted     0     1\n",
      "Actuall              \n",
      "0          5197  1044\n",
      "1           532  1368\n"
     ]
    }
   ],
   "source": [
    "print (\"Test ConfusionMatrix\\n\\n\",pd.crosstab(y_test,rf_model.predict( X_test),rownames =[\"Actuall\"],colnames = [\"Predicted\"]))"
   ]
  },
  {
   "cell_type": "code",
   "execution_count": 77,
   "metadata": {},
   "outputs": [
    {
     "name": "stdout",
     "output_type": "stream",
     "text": [
      "             precision    recall  f1-score   support\n",
      "\n",
      "      <50k        0.91      0.83      0.87      6241\n",
      "       >50k       0.57      0.72      0.63      1900\n",
      "\n",
      "avg / total       0.83      0.81      0.81      8141\n",
      "\n"
     ]
    }
   ],
   "source": [
    "# Calculating Precision. Recall and f1-score\n",
    "target_names = ['<50k ', '>50k']\n",
    "print(classification_report(y_test.values,rf_model.predict(X_test),target_names=target_names))"
   ]
  },
  {
   "cell_type": "code",
   "execution_count": 53,
   "metadata": {},
   "outputs": [],
   "source": [
    "# Creating df with top features\n",
    "top_features = pd.Series(rf_model.feature_importances_,index=X_train.columns,\n",
    "name='Importance').sort_values(ascending=False, inplace=False).reset_index()"
   ]
  },
  {
   "cell_type": "code",
   "execution_count": 64,
   "metadata": {},
   "outputs": [
    {
     "data": {
      "image/png": "[encoded data removed]",
      "text/plain": [
       "<matplotlib.figure.Figure at 0x7fcbe07e6978>"
      ]
     },
     "metadata": {},
     "output_type": "display_data"
    }
   ],
   "source": [
    "fig,axes=plt.subplots(figsize=(15,10))\n",
    "sns.barplot(x='Importance',y='index',data=top_features,ax=axes).set_title('Top Importance Features');"
   ]
  },
  {
   "cell_type": "markdown",
   "metadata": {},
   "source": [
    "## Pipeline and Grid search"
   ]
  },
  {
   "cell_type": "code",
   "execution_count": 115,
   "metadata": {},
   "outputs": [],
   "source": [
    "from sklearn.pipeline import Pipeline\n",
    "from sklearn.model_selection import GridSearchCV"
   ]
  },
  {
   "cell_type": "code",
   "execution_count": 116,
   "metadata": {},
   "outputs": [],
   "source": [
    " pipeline = Pipeline([\n",
    "('clf',RandomForestClassifier(criterion='gini'))])\n",
    "parameters = {\n",
    "    'clf__n_estimators':(1000,2000,3000), #number of the tress\n",
    "    'clf__max_depth':(100,200,300),# max depth in tree\n",
    "    'clf__min_samples_split':(2,3), # min of the samples for the split\n",
    "    'clf__min_samples_leaf':(1,2) } # min of the samples in leaf node"
   ]
  },
  {
   "cell_type": "code",
   "execution_count": null,
   "metadata": {},
   "outputs": [],
   "source": [
    "grid_search = GridSearchCV(pipeline,parameters,n_jobs=-1, cv=5,verbose=1,scoring='accuracy')\n",
    "grid_search.fit(X_train,y_train)    "
   ]
  },
  {
   "cell_type": "code",
   "execution_count": null,
   "metadata": {},
   "outputs": [],
   "source": [
    "print ('Best Training score: %0.3f' % grid_search.best_score_)\n",
    "print ('Best parameters set:')\n",
    "best_parameters = grid_search.best_estimator_.get_params()\n",
    "\n",
    "for param_name in sorted(parameters.keys()):\n",
    "    print ('\\t%s: %r' % (param_name, best_parameters[param_name]))"
   ]
  },
  {
   "cell_type": "code",
   "execution_count": null,
   "metadata": {},
   "outputs": [],
   "source": [
    "preds = grid_search.predict(x_test)\n",
    "print (\"Testing accuracy:\",accuracy_score(y_test,preds))"
   ]
  },
  {
   "cell_type": "code",
   "execution_count": null,
   "metadata": {},
   "outputs": [],
   "source": [
    "#confusion matrix\n",
    "pd.crosstab(y_test, preds,rownames = [\"Actuall\"],colnames =[\"Predicted\"])"
   ]
  },
  {
   "cell_type": "code",
   "execution_count": null,
   "metadata": {},
   "outputs": [],
   "source": []
  },
  {
   "cell_type": "code",
   "execution_count": null,
   "metadata": {},
   "outputs": [],
   "source": []
  },
  {
   "cell_type": "code",
   "execution_count": 65,
   "metadata": {},
   "outputs": [
    {
     "name": "stdout",
     "output_type": "stream",
     "text": [
      "Collecting seaborn==0.9.0\n",
      "\u001b[?25l  Downloading https://files.pythonhosted.org/packages/a8/76/220ba4420459d9c4c9c9587c6ce607bf56c25b3d3d2de62056efe482dadc/seaborn-0.9.0-py3-none-any.whl (208kB)\n",
      "\u001b[K    100% |████████████████████████████████| 215kB 3.9MB/s \n",
      "\u001b[?25hRequirement already satisfied: pandas>=0.15.2 in /home/dataanalysis/anaconda3/lib/python3.6/site-packages (from seaborn==0.9.0) (0.20.3)\n",
      "Requirement already satisfied: scipy>=0.14.0 in /home/dataanalysis/anaconda3/lib/python3.6/site-packages (from seaborn==0.9.0) (0.19.1)\n",
      "Requirement already satisfied: numpy>=1.9.3 in /home/dataanalysis/anaconda3/lib/python3.6/site-packages (from seaborn==0.9.0) (1.13.3)\n",
      "Requirement already satisfied: matplotlib>=1.4.3 in /home/dataanalysis/anaconda3/lib/python3.6/site-packages (from seaborn==0.9.0) (2.1.0)\n",
      "Requirement already satisfied: python-dateutil>=2 in /home/dataanalysis/anaconda3/lib/python3.6/site-packages (from pandas>=0.15.2->seaborn==0.9.0) (2.6.1)\n",
      "Requirement already satisfied: pytz>=2011k in /home/dataanalysis/anaconda3/lib/python3.6/site-packages (from pandas>=0.15.2->seaborn==0.9.0) (2017.2)\n",
      "Requirement already satisfied: six>=1.10 in /home/dataanalysis/anaconda3/lib/python3.6/site-packages (from matplotlib>=1.4.3->seaborn==0.9.0) (1.11.0)\n",
      "Requirement already satisfied: cycler>=0.10 in /home/dataanalysis/anaconda3/lib/python3.6/site-packages (from matplotlib>=1.4.3->seaborn==0.9.0) (0.10.0)\n",
      "Requirement already satisfied: pyparsing!=2.0.4,!=2.1.2,!=2.1.6,>=2.0.1 in /home/dataanalysis/anaconda3/lib/python3.6/site-packages (from matplotlib>=1.4.3->seaborn==0.9.0) (2.2.0)\n",
      "Installing collected packages: seaborn\n",
      "  Found existing installation: seaborn 0.8\n",
      "    Uninstalling seaborn-0.8:\n",
      "      Successfully uninstalled seaborn-0.8\n",
      "Successfully installed seaborn-0.9.0\n",
      "\u001b[33mYou are using pip version 18.0, however version 19.0.1 is available.\n",
      "You should consider upgrading via the 'pip install --upgrade pip' command.\u001b[0m\n"
     ]
    }
   ],
   "source": [
    "!pip install seaborn==0.9.0"
   ]
  },
  {
   "cell_type": "code",
   "execution_count": 68,
   "metadata": {},
   "outputs": [
    {
     "name": "stdout",
     "output_type": "stream",
     "text": [
      "Collecting pip\n",
      "\u001b[?25l  Downloading https://files.pythonhosted.org/packages/46/dc/7fd5df840efb3e56c8b4f768793a237ec4ee59891959d6a215d63f727023/pip-19.0.1-py2.py3-none-any.whl (1.4MB)\n",
      "\u001b[K    100% |████████████████████████████████| 1.4MB 2.1MB/s \n",
      "\u001b[?25hInstalling collected packages: pip\n",
      "  Found existing installation: pip 18.0\n",
      "    Uninstalling pip-18.0:\n",
      "      Successfully uninstalled pip-18.0\n",
      "Successfully installed pip-19.0.1\n"
     ]
    }
   ],
   "source": [
    "!pip install --upgrade pip"
   ]
  },
  {
   "cell_type": "code",
   "execution_count": null,
   "metadata": {},
   "outputs": [],
   "source": []
  }
 ],
 "metadata": {
  "kernelspec": {
   "display_name": "Python 3",
   "language": "python",
   "name": "python3"
  },
  "language_info": {
   "codemirror_mode": {
    "name": "ipython",
    "version": 3
   },
   "file_extension": ".py",
   "mimetype": "text/x-python",
   "name": "python",
   "nbconvert_exporter": "python",
   "pygments_lexer": "ipython3",
   "version": "3.6.3"
  }
 },
 "nbformat": 4,
 "nbformat_minor": 2
}
